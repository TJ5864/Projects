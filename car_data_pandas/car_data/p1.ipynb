{
 "cells": [
  {
   "cell_type": "code",
   "execution_count": 3,
   "metadata": {},
   "outputs": [],
   "source": [
    "import pandas as  pd \n",
    "import numpy as np\n",
    "import re as re \n",
    "import mysql.connector as mysql\n",
    "from mysql.connector import Error\n",
    "db_config = {\n",
    "    'host': 'localhost',\n",
    "    'user': 'root',\n",
    "    'password': '',\n",
    "    'database': 's_crash'\n",
    "}\n",
    "connect = mysql.connect(**db_config)\n",
    "cursor = connect.cursor()\n",
    "cursor.execute(\"use s_crash; insert into s_crash{df} \")\n"
   ]
  },
  {
   "cell_type": "code",
   "execution_count": 10,
   "metadata": {},
   "outputs": [
    {
     "name": "stdout",
     "output_type": "stream",
     "text": [
      "     CRASH_CRN  DISTRICT  CRASH_COUNTY  MUNICIPALITY POLICE_AGCY  CRASH_YEAR  \\\n",
      "3   2015000376        12            62         62406       62406        2015   \n",
      "2   2015000317        12            62         62227       62227        2015   \n",
      "2   2015000317        12            62         62227       62227        2015   \n",
      "3   2015000376        12            62         62406       62406        2015   \n",
      "2   2015000317        12            62         62227       62227        2015   \n",
      "..         ...       ...           ...           ...         ...         ...   \n",
      "1   2015000212        12            62         62227       62227        2015   \n",
      "2   2015000317        12            62         62227       62227        2015   \n",
      "2   2015000317        12            62         62227       62227        2015   \n",
      "1   2015000212        12            62         62227       62227        2015   \n",
      "3   2015000376        12            62         62406       62406        2015   \n",
      "\n",
      "    CRASH_MONTH  DAY_OF_WEEK  TIME_OF_DAY  HOUR_OF_DAY  ...  ACCESS_CTRL  \\\n",
      "3             1            6         1236           12  ...          3.0   \n",
      "2             1            6          731            7  ...          NaN   \n",
      "2             1            6          731            7  ...          NaN   \n",
      "3             1            6         1236           12  ...          3.0   \n",
      "2             1            6          731            7  ...          NaN   \n",
      "..          ...          ...          ...          ...  ...          ...   \n",
      "1             1            5         1614           16  ...          3.0   \n",
      "2             1            6          731            7  ...          NaN   \n",
      "2             1            6          731            7  ...          NaN   \n",
      "1             1            5         1614           16  ...          3.0   \n",
      "3             1            6         1236           12  ...          3.0   \n",
      "\n",
      "    ROADWAY_COUNTY  LANE_COUNT  RDWY_ORIENT  ROAD_OWNER  ROUTE  SPEED_LIMIT  \\\n",
      "3               62           2            B           2  980.0         25.0   \n",
      "2               62           2            N           4    NaN         35.0   \n",
      "2               62           2            N           4    NaN         35.0   \n",
      "3               62           2            B           2  980.0         25.0   \n",
      "2               62           2            N           4    NaN         35.0   \n",
      "..             ...         ...          ...         ...    ...          ...   \n",
      "1               62           2            N           2   19.0         45.0   \n",
      "2               62           2            N           4    NaN         35.0   \n",
      "2               62           2            N           4    NaN         35.0   \n",
      "1               62           2            N           2   19.0         45.0   \n",
      "3               62           2            B           2  980.0         25.0   \n",
      "\n",
      "    SEGMENT  OFFSET    STREET_NAME  \n",
      "3      50.0  1310.0       ADAMS AV  \n",
      "2       NaN     NaN      DONNAN AV  \n",
      "2       NaN     NaN      DONNAN AV  \n",
      "3      50.0  1310.0       ADAMS AV  \n",
      "2       NaN     NaN      DONNAN AV  \n",
      "..      ...     ...            ...  \n",
      "1     380.0   430.0  WASHINGTON RD  \n",
      "2       NaN     NaN      DONNAN AV  \n",
      "2       NaN     NaN      DONNAN AV  \n",
      "1     380.0   430.0  WASHINGTON RD  \n",
      "3      50.0  1310.0       ADAMS AV  \n",
      "\n",
      "[1930 rows x 188 columns]\n"
     ]
    }
   ],
   "source": [
    "df = pd.read_csv('2015washington.csv')\n",
    "#print(df.columns)\n",
    "\n",
    "test = df[df['PERSON_COUNT']>=1]\n",
    "x= df.loc[df['PERSON_COUNT']]\n",
    "print(x)\n",
    "\n"
   ]
  },
  {
   "cell_type": "code",
   "execution_count": 9,
   "metadata": {},
   "outputs": [
    {
     "name": "stdout",
     "output_type": "stream",
     "text": [
      "MOTORCYCLE_COUNT\n",
      "0    1863\n",
      "1      65\n",
      "2       2\n",
      "Name: count, dtype: int64\n"
     ]
    }
   ],
   "source": [
    "moter = df['MOTORCYCLE_COUNT'].value_counts().sort_index()\n",
    "print(moter)"
   ]
  },
  {
   "cell_type": "code",
   "execution_count": 37,
   "metadata": {},
   "outputs": [
    {
     "name": "stdout",
     "output_type": "stream",
     "text": [
      "    CRASH_MONTH  DAY_OF_WEEK  count\n",
      "6             1            7     54\n",
      "1             1            2     33\n",
      "4             1            5     31\n",
      "13            2            7     37\n",
      "11            2            5     33\n",
      "16            3            3     33\n",
      "18            3            5     32\n",
      "55            8            7     36\n",
      "68           10            6     32\n",
      "82           12            6     32\n"
     ]
    }
   ],
   "source": [
    "monthC = df['CRASH_MONTH'].value_counts().sort_index()\n",
    "dayc = df['DAY_OF_WEEK'].value_counts().sort_index()\n",
    "test = df[['CRASH_MONTH','DAY_OF_WEEK']]\n",
    "test2 = test.value_counts().sort_index()\n",
    "test3 = test.groupby(['CRASH_MONTH'])\n",
    "test4 = test3.value_counts().sort_index()\n",
    "test_counts = test.groupby(['CRASH_MONTH', 'DAY_OF_WEEK']).size().reset_index(name='count')\n",
    "#with open('output.txt', 'w') as f:\n",
    "   # f.write(test4.to_string())  \n",
    "sorted_test = test_counts.sort_values(by='count', ascending=False)\n",
    "w = sorted_test.head(10)\n",
    "sorted_test2 = w.sort_values(by='CRASH_MONTH', ascending=True)\n",
    "print(sorted_test2)\n",
    "\n"
   ]
  },
  {
   "cell_type": "code",
   "execution_count": 38,
   "metadata": {},
   "outputs": [
    {
     "name": "stdout",
     "output_type": "stream",
     "text": [
      "1 7 54\n",
      "2 7 37\n",
      "8 7 36\n"
     ]
    }
   ],
   "source": [
    "for _, row in sorted_test2.iterrows():  # '_' is used to ignore the index\n",
    "    if int(row['count']) > 35:\n",
    "        print(row['CRASH_MONTH'], row['DAY_OF_WEEK'], row['count'])\n",
    "\n",
    "# most crashes are sundays in january \n",
    "        \n"
   ]
  },
  {
   "cell_type": "code",
   "execution_count": 47,
   "metadata": {},
   "outputs": [
    {
     "data": {
      "text/html": [
       "<div>\n",
       "<style scoped>\n",
       "    .dataframe tbody tr th:only-of-type {\n",
       "        vertical-align: middle;\n",
       "    }\n",
       "\n",
       "    .dataframe tbody tr th {\n",
       "        vertical-align: top;\n",
       "    }\n",
       "\n",
       "    .dataframe thead th {\n",
       "        text-align: right;\n",
       "    }\n",
       "</style>\n",
       "<table border=\"1\" class=\"dataframe\">\n",
       "  <thead>\n",
       "    <tr style=\"text-align: right;\">\n",
       "      <th></th>\n",
       "      <th>WEATHER</th>\n",
       "      <th>SPEED_LIMIT</th>\n",
       "      <th>MOTORCYCLE_COUNT</th>\n",
       "      <th>FATAL_COUNT</th>\n",
       "      <th>MAJ_INJ_COUNT</th>\n",
       "    </tr>\n",
       "  </thead>\n",
       "  <tbody>\n",
       "    <tr>\n",
       "      <th>85</th>\n",
       "      <td>1</td>\n",
       "      <td>45.0</td>\n",
       "      <td>0</td>\n",
       "      <td>1</td>\n",
       "      <td>1</td>\n",
       "    </tr>\n",
       "    <tr>\n",
       "      <th>155</th>\n",
       "      <td>1</td>\n",
       "      <td>55.0</td>\n",
       "      <td>0</td>\n",
       "      <td>3</td>\n",
       "      <td>0</td>\n",
       "    </tr>\n",
       "    <tr>\n",
       "      <th>440</th>\n",
       "      <td>1</td>\n",
       "      <td>55.0</td>\n",
       "      <td>0</td>\n",
       "      <td>1</td>\n",
       "      <td>0</td>\n",
       "    </tr>\n",
       "    <tr>\n",
       "      <th>520</th>\n",
       "      <td>4</td>\n",
       "      <td>65.0</td>\n",
       "      <td>0</td>\n",
       "      <td>1</td>\n",
       "      <td>0</td>\n",
       "    </tr>\n",
       "    <tr>\n",
       "      <th>547</th>\n",
       "      <td>4</td>\n",
       "      <td>65.0</td>\n",
       "      <td>0</td>\n",
       "      <td>1</td>\n",
       "      <td>0</td>\n",
       "    </tr>\n",
       "  </tbody>\n",
       "</table>\n",
       "</div>"
      ],
      "text/plain": [
       "     WEATHER  SPEED_LIMIT  MOTORCYCLE_COUNT  FATAL_COUNT  MAJ_INJ_COUNT\n",
       "85         1         45.0                 0            1              1\n",
       "155        1         55.0                 0            3              0\n",
       "440        1         55.0                 0            1              0\n",
       "520        4         65.0                 0            1              0\n",
       "547        4         65.0                 0            1              0"
      ]
     },
     "execution_count": 47,
     "metadata": {},
     "output_type": "execute_result"
    }
   ],
   "source": [
    "new = df[['WEATHER', 'SPEED_LIMIT','MOTORCYCLE_COUNT', 'FATAL_COUNT', 'MAJ_INJ_COUNT']]\n",
    "new2 = new[new['FATAL_COUNT']>0]\n",
    "new2.head()"
   ]
  },
  {
   "cell_type": "code",
   "execution_count": 50,
   "metadata": {},
   "outputs": [
    {
     "data": {
      "text/plain": [
       "<Axes: xlabel='WEATHER'>"
      ]
     },
     "execution_count": 50,
     "metadata": {},
     "output_type": "execute_result"
    },
    {
     "data": {
      "image/png": "[encoded data removed]",
      "text/plain": [
       "<Figure size 1000x1000 with 1 Axes>"
      ]
     },
     "metadata": {},
     "output_type": "display_data"
    }
   ],
   "source": [
    "import matplotlib as p \n",
    "we = df[['WEATHER', 'MAJ_INJ_COUNT']]\n",
    "weinj = we.groupby('WEATHER').value_counts().unstack(fill_value=0)\n",
    "#weinj.head()\n",
    "\n",
    "weinj.plot(kind='bar', stacked=True, figsize=(10,10))\n"
   ]
  },
  {
   "cell_type": "code",
   "execution_count": 54,
   "metadata": {},
   "outputs": [
    {
     "ename": "TypeError",
     "evalue": "sqlite3.Connection() takes no keyword arguments",
     "output_type": "error",
     "traceback": [
      "\u001b[0;31m---------------------------------------------------------------------------\u001b[0m",
      "\u001b[0;31mTypeError\u001b[0m                                 Traceback (most recent call last)",
      "\u001b[1;32m/Users/tjthomassen/Desktop/projects/p1/p1.ipynb Cell 7\u001b[0m line \u001b[0;36m1\n\u001b[1;32m     <a href='vscode-notebook-cell:/Users/tjthomassen/Desktop/projects/p1/p1.ipynb#W6sZmlsZQ%3D%3D?line=10'>11</a>\u001b[0m \u001b[39mwhile\u001b[39;00m num_of_tries \u001b[39m<\u001b[39m WAIT_TIME:\n\u001b[1;32m     <a href='vscode-notebook-cell:/Users/tjthomassen/Desktop/projects/p1/p1.ipynb#W6sZmlsZQ%3D%3D?line=11'>12</a>\u001b[0m     \u001b[39mtry\u001b[39;00m:\n\u001b[0;32m---> <a href='vscode-notebook-cell:/Users/tjthomassen/Desktop/projects/p1/p1.ipynb#W6sZmlsZQ%3D%3D?line=12'>13</a>\u001b[0m         mydb \u001b[39m=\u001b[39m connect(host\u001b[39m=\u001b[39;49m\u001b[39m\"\u001b[39;49m\u001b[39m127.0.0.1\u001b[39;49m\u001b[39m\"\u001b[39;49m, user\u001b[39m=\u001b[39;49m\u001b[39m\"\u001b[39;49m\u001b[39mroot\u001b[39;49m\u001b[39m\"\u001b[39;49m, db\u001b[39m=\u001b[39;49m\u001b[39m'\u001b[39;49m\u001b[39mCrash\u001b[39;49m\u001b[39m'\u001b[39;49m)\n\u001b[1;32m     <a href='vscode-notebook-cell:/Users/tjthomassen/Desktop/projects/p1/p1.ipynb#W6sZmlsZQ%3D%3D?line=13'>14</a>\u001b[0m         \u001b[39mif\u001b[39;00m mydb\u001b[39m.\u001b[39mis_connected():\n\u001b[1;32m     <a href='vscode-notebook-cell:/Users/tjthomassen/Desktop/projects/p1/p1.ipynb#W6sZmlsZQ%3D%3D?line=14'>15</a>\u001b[0m             \u001b[39mprint\u001b[39m(\u001b[39m\"\u001b[39m\u001b[39mConnected\u001b[39m\u001b[39m\"\u001b[39m)\n",
      "\u001b[0;31mTypeError\u001b[0m: sqlite3.Connection() takes no keyword arguments"
     ]
    }
   ],
   "source": [
    "import sqlite3\n",
    "from mysql.connector import connect, Error\n",
    "import time\n",
    "\n",
    "connect = sqlite3.connect('Crash.db')\n",
    "cursor = connect.cursor()\n",
    "WAIT_TIME = 10\n",
    "\n",
    "\n",
    "num_of_tries = 0\n",
    "while num_of_tries < WAIT_TIME:\n",
    "    try:\n",
    "        mydb = connect(host=\"127.0.0.1\", user=\"root\", db='Crash')\n",
    "        if mydb.is_connected():\n",
    "            print(\"Connected\")\n",
    "            break\n",
    "    except Error as e:\n",
    "        print(e)\n",
    "\n",
    "    num_of_tries += 1\n",
    "    print(\"Waiting for MySQL to start\")\n",
    "    time.sleep(1)\n",
    "\n",
    "if num_of_tries >= WAIT_TIME:\n",
    "    raise TimeoutError(\"MySQL is not running\")\n",
    "\n"
   ]
  }
 ],
 "metadata": {
  "kernelspec": {
   "display_name": "Python 3",
   "language": "python",
   "name": "python3"
  },
  "language_info": {
   "codemirror_mode": {
    "name": "ipython",
    "version": 3
   },
   "file_extension": ".py",
   "mimetype": "text/x-python",
   "name": "python",
   "nbconvert_exporter": "python",
   "pygments_lexer": "ipython3",
   "version": "3.12.5"
  },
  "orig_nbformat": 4
 },
 "nbformat": 4,
 "nbformat_minor": 2
}
