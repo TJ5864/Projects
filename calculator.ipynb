{
 "cells": [
  {
   "cell_type": "code",
   "execution_count": null,
   "metadata": {},
   "outputs": [],
   "source": [
    "# Plan to create my calculator, mehtod for adding, dividng , multiplying , squaring , dividing , squarerooting "
   ]
  },
  {
   "cell_type": "code",
   "execution_count": 1,
   "metadata": {},
   "outputs": [],
   "source": [
    "import math"
   ]
  },
  {
   "cell_type": "code",
   "execution_count": 6,
   "metadata": {},
   "outputs": [],
   "source": [
    "def add( x, y):\n",
    "    try: \n",
    "        x = int(x)\n",
    "        y = int(y)\n",
    "        z = x + y \n",
    "        return z\n",
    "    except ValueError as a:\n",
    "        return f\"Error: Invalid input.{a}.\""
   ]
  },
  {
   "cell_type": "code",
   "execution_count": 7,
   "metadata": {},
   "outputs": [],
   "source": [
    "def subtract(x, y):\n",
    "    try:\n",
    "        x = int(x)\n",
    "        y = int(y)\n",
    "        z = x - y\n",
    "        return z\n",
    "    except ValueError as a:\n",
    "        return f\"Error : {a}\"\n"
   ]
  },
  {
   "cell_type": "code",
   "execution_count": 8,
   "metadata": {},
   "outputs": [],
   "source": [
    "def multiply(x , y):\n",
    "    try:\n",
    "        x = int(x)\n",
    "        y = int(y)\n",
    "        return x * y\n",
    "    except ValueError as z :\n",
    "        return f\"Error: {z}.\""
   ]
  },
  {
   "cell_type": "code",
   "execution_count": 9,
   "metadata": {},
   "outputs": [],
   "source": [
    "def divide( x, y):\n",
    "    try:\n",
    "        x = int(x)\n",
    "        y = int(y)\n",
    "        return x / y\n",
    "    except ZeroDivisionError as z:\n",
    "        return f\"Error: {z}\""
   ]
  },
  {
   "cell_type": "code",
   "execution_count": null,
   "metadata": {},
   "outputs": [],
   "source": [
    "def power(x, y):\n",
    "    try: \n",
    "        if x == 0:\n",
    "            return 0\n",
    "        elif y == 0:\n",
    "            return 1\n",
    "        else:\n",
    "            return math.pow(x,y)\n",
    "        \n",
    "    except ValueError as z:\n",
    "        return f\"Error: {z}\"\n",
    "        "
   ]
  },
  {
   "cell_type": "code",
   "execution_count": 16,
   "metadata": {},
   "outputs": [],
   "source": [
    "import re\n",
    "def solve(a):\n",
    "    while '(' in a:\n",
    "        newa = findPar(a)\n",
    "    return innerSolve(newa)\n",
    "\n",
    "    \n",
    "\n",
    "\n",
    "def findPar( y ):\n",
    "    match = re.search(r'\\(.+\\)', y)\n",
    "    if not match:\n",
    "        result = innerSolve(y)\n",
    "        # use re to replace that group with the result \n",
    "    inner = match.group(1)\n",
    "    \n",
    "    # Solve the inner expression\n",
    "    result = innerSolve(inner)\n",
    "    \n",
    "    # Replace the matched parentheses with the result\n",
    "    expression = expression[:match.start()] + str(result) + expression[match.end():]\n",
    "    \n",
    "    return expression\n",
    "\n",
    "\n",
    "def innerSolve( x ):\n",
    "    if( '+' in x ):\n",
    "        return add( map(int, x.split('+')) )\n",
    "    if( '*' in x ):\n",
    "        return multiply(map(int, x.split('*')))\n",
    "    if( '-' in x ):\n",
    "        return subtract(map(int, x.split('-')))\n",
    "    if ('/' in x):\n",
    "        return divide(map(int, x.split('/')))\n",
    "    if ('^' in x):\n",
    "        return power(map(int, x.split('^')))\n",
    "\n",
    "   \n",
    "\n",
    "\n",
    "              \n",
    "              \n",
    "\n"
   ]
  },
  {
   "cell_type": "code",
   "execution_count": 15,
   "metadata": {},
   "outputs": [],
   "source": [
    "import re\n",
    "def useCalc():\n",
    "    expresion = input(\"Test Calculator, use +, -, * , / , ^(for power)\")\n",
    "    expresion = re.sub(r'\\s+', '', expresion    )\n",
    "    new_exp = solve(expresion)\n",
    "    print(new_exp)\n"
   ]
  },
  {
   "cell_type": "code",
   "execution_count": 17,
   "metadata": {},
   "outputs": [
    {
     "ename": "IndexError",
     "evalue": "no such group",
     "output_type": "error",
     "traceback": [
      "\u001b[0;31m---------------------------------------------------------------------------\u001b[0m",
      "\u001b[0;31mIndexError\u001b[0m                                Traceback (most recent call last)",
      "\u001b[1;32m/Users/tjthomassen/Downloads/calculator.ipynb Cell 10\u001b[0m line \u001b[0;36m1\n\u001b[0;32m----> <a href='vscode-notebook-cell:/Users/tjthomassen/Downloads/calculator.ipynb#X13sZmlsZQ%3D%3D?line=0'>1</a>\u001b[0m useCalc()\n",
      "\u001b[1;32m/Users/tjthomassen/Downloads/calculator.ipynb Cell 10\u001b[0m line \u001b[0;36m5\n\u001b[1;32m      <a href='vscode-notebook-cell:/Users/tjthomassen/Downloads/calculator.ipynb#X13sZmlsZQ%3D%3D?line=2'>3</a>\u001b[0m expresion \u001b[39m=\u001b[39m \u001b[39minput\u001b[39m(\u001b[39m\"\u001b[39m\u001b[39mTest Calculator, use +, -, * , / , ^(for power)\u001b[39m\u001b[39m\"\u001b[39m)\n\u001b[1;32m      <a href='vscode-notebook-cell:/Users/tjthomassen/Downloads/calculator.ipynb#X13sZmlsZQ%3D%3D?line=3'>4</a>\u001b[0m expresion \u001b[39m=\u001b[39m re\u001b[39m.\u001b[39msub(\u001b[39mr\u001b[39m\u001b[39m'\u001b[39m\u001b[39m\\\u001b[39m\u001b[39ms+\u001b[39m\u001b[39m'\u001b[39m, \u001b[39m'\u001b[39m\u001b[39m'\u001b[39m, expresion    )\n\u001b[0;32m----> <a href='vscode-notebook-cell:/Users/tjthomassen/Downloads/calculator.ipynb#X13sZmlsZQ%3D%3D?line=4'>5</a>\u001b[0m new_exp \u001b[39m=\u001b[39m solve(expresion)\n\u001b[1;32m      <a href='vscode-notebook-cell:/Users/tjthomassen/Downloads/calculator.ipynb#X13sZmlsZQ%3D%3D?line=5'>6</a>\u001b[0m \u001b[39mprint\u001b[39m(new_exp)\n",
      "\u001b[1;32m/Users/tjthomassen/Downloads/calculator.ipynb Cell 10\u001b[0m line \u001b[0;36m4\n\u001b[1;32m      <a href='vscode-notebook-cell:/Users/tjthomassen/Downloads/calculator.ipynb#X13sZmlsZQ%3D%3D?line=1'>2</a>\u001b[0m \u001b[39mdef\u001b[39;00m \u001b[39msolve\u001b[39m(a):\n\u001b[1;32m      <a href='vscode-notebook-cell:/Users/tjthomassen/Downloads/calculator.ipynb#X13sZmlsZQ%3D%3D?line=2'>3</a>\u001b[0m     \u001b[39mwhile\u001b[39;00m \u001b[39m'\u001b[39m\u001b[39m(\u001b[39m\u001b[39m'\u001b[39m \u001b[39min\u001b[39;00m a:\n\u001b[0;32m----> <a href='vscode-notebook-cell:/Users/tjthomassen/Downloads/calculator.ipynb#X13sZmlsZQ%3D%3D?line=3'>4</a>\u001b[0m         newa \u001b[39m=\u001b[39m findPar(a)\n\u001b[1;32m      <a href='vscode-notebook-cell:/Users/tjthomassen/Downloads/calculator.ipynb#X13sZmlsZQ%3D%3D?line=4'>5</a>\u001b[0m     \u001b[39mreturn\u001b[39;00m innerSolve(newa)\n",
      "\u001b[1;32m/Users/tjthomassen/Downloads/calculator.ipynb Cell 10\u001b[0m line \u001b[0;36m1\n\u001b[1;32m     <a href='vscode-notebook-cell:/Users/tjthomassen/Downloads/calculator.ipynb#X13sZmlsZQ%3D%3D?line=12'>13</a>\u001b[0m     result \u001b[39m=\u001b[39m innerSolve(y)\n\u001b[1;32m     <a href='vscode-notebook-cell:/Users/tjthomassen/Downloads/calculator.ipynb#X13sZmlsZQ%3D%3D?line=13'>14</a>\u001b[0m     \u001b[39m# use re to replace that group with the result \u001b[39;00m\n\u001b[0;32m---> <a href='vscode-notebook-cell:/Users/tjthomassen/Downloads/calculator.ipynb#X13sZmlsZQ%3D%3D?line=14'>15</a>\u001b[0m inner \u001b[39m=\u001b[39m match\u001b[39m.\u001b[39;49mgroup(\u001b[39m1\u001b[39;49m)\n\u001b[1;32m     <a href='vscode-notebook-cell:/Users/tjthomassen/Downloads/calculator.ipynb#X13sZmlsZQ%3D%3D?line=16'>17</a>\u001b[0m \u001b[39m# Solve the inner expression\u001b[39;00m\n\u001b[1;32m     <a href='vscode-notebook-cell:/Users/tjthomassen/Downloads/calculator.ipynb#X13sZmlsZQ%3D%3D?line=17'>18</a>\u001b[0m result \u001b[39m=\u001b[39m innerSolve(inner)\n",
      "\u001b[0;31mIndexError\u001b[0m: no such group"
     ]
    }
   ],
   "source": [
    "useCalc()"
   ]
  }
 ],
 "metadata": {
  "kernelspec": {
   "display_name": "Python 3",
   "language": "python",
   "name": "python3"
  },
  "language_info": {
   "codemirror_mode": {
    "name": "ipython",
    "version": 3
   },
   "file_extension": ".py",
   "mimetype": "text/x-python",
   "name": "python",
   "nbconvert_exporter": "python",
   "pygments_lexer": "ipython3",
   "version": "3.12.5"
  },
  "orig_nbformat": 4
 },
 "nbformat": 4,
 "nbformat_minor": 2
}
